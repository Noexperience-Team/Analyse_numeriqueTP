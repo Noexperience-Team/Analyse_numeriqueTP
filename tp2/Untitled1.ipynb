{
 "cells": [
  {
   "cell_type": "code",
   "execution_count": 13,
   "metadata": {},
   "outputs": [
    {
     "name": "stdout",
     "output_type": "stream",
     "text": [
      " Columns 1 through 6:\r\n",
      "\r\n",
      "  -5.0000e+00  -4.7553e+00  -4.0451e+00  -2.9389e+00  -1.5451e+00  -3.0616e-16\r\n",
      "\r\n",
      " Columns 7 through 11:\r\n",
      "\r\n",
      "   1.5451e+00   2.9389e+00   4.0451e+00   4.7553e+00   5.0000e+00\r\n"
     ]
    }
   ],
   "source": [
    "function V=tcheb(a,b,n)\n",
    "V=[];\n",
    "for k=[1:n]\n",
    "V(k)=(a+b)/2+(a-b)/2*cos((k-1)/(n-1)*pi);\n",
    "end \n",
    "end\n",
    "disp(tcheb(-5,5,11));"
   ]
  },
  {
   "cell_type": "code",
   "execution_count": null,
   "metadata": {},
   "outputs": [],
   "source": []
  }
 ],
 "metadata": {
  "kernelspec": {
   "display_name": "Octave",
   "language": "octave",
   "name": "octave"
  },
  "language_info": {
   "file_extension": ".m",
   "help_links": [
    {
     "text": "GNU Octave",
     "url": "https://www.gnu.org/software/octave/support.html"
    },
    {
     "text": "Octave Kernel",
     "url": "https://github.com/Calysto/octave_kernel"
    },
    {
     "text": "MetaKernel Magics",
     "url": "https://metakernel.readthedocs.io/en/latest/source/README.html"
    }
   ],
   "mimetype": "text/x-octave",
   "name": "octave",
   "version": "5.2.0"
  }
 },
 "nbformat": 4,
 "nbformat_minor": 2
}
